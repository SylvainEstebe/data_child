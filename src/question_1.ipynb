{
 "cells": [
  {
   "cell_type": "markdown",
   "metadata": {},
   "source": [
    "# Determinants of unequal access to early childcare structures\n",
    "\n",
    "https://towardsdatascience.com/top-machine-learning-algorithms-for-classification-2197870ff501\n",
    "https://medium.com/@sakshi.babbar/exploring-classification-algorithms-guide-to-select-the-right-model-for-your-data-73b08b187a01\n",
    "https://christophm.github.io/interpretable-ml-book/simple.html\n",
    "https://towardsdatascience.com/three-interpretability-methods-to-consider-when-developing-your-machine-learning-model-5bf368b47fac\n",
    "https://en.wikipedia.org/wiki/Gradient_boosting\n",
    "https://xgboost.readthedocs.io/en/stable/\n",
    "https://christophm.github.io/interpretable-ml-book/\n",
    "\n",
    "[] Regularisation\n",
    "[] Interpretability\n",
    "[] Limitation"
   ]
  },
  {
   "cell_type": "markdown",
   "metadata": {},
   "source": [
    "## Library"
   ]
  },
  {
   "cell_type": "code",
   "execution_count": 175,
   "metadata": {},
   "outputs": [],
   "source": [
    "import matplotlib.pyplot as plt\n",
    "import numpy as np\n",
    "import pandas as pd\n",
    "import itertools\n",
    "import seaborn as sns\n",
    "import pickle as pkl\n",
    "from sklearn import tree as tr\n",
    "from sklearn import datasets\n",
    "from sklearn.model_selection import train_test_split\n",
    "from sklearn.metrics import mean_squared_error, r2_score\n",
    "from sklearn.neighbors import KNeighborsRegressor\n",
    "from sklearn.linear_model import LinearRegression\n",
    "from sklearn.model_selection import train_test_split, GridSearchCV\n",
    "from sklearn.metrics import f1_score\n",
    "from sklearn.metrics import precision_score\n",
    "from sklearn.metrics import recall_score\n",
    "from sklearn.neural_network import MLPClassifier\n",
    "from sklearn.preprocessing import StandardScaler\n",
    "from sklearn.dummy import DummyClassifier\n",
    "from sklearn.metrics import f1_score, accuracy_score\n",
    "from sklearn.metrics import confusion_matrix, ConfusionMatrixDisplay\n",
    "\n"
   ]
  },
  {
   "cell_type": "code",
   "execution_count": 18,
   "metadata": {},
   "outputs": [
    {
     "data": {
      "text/plain": [
       "0       30\n",
       "1       36\n",
       "2       29\n",
       "3       43\n",
       "4       40\n",
       "        ..\n",
       "1450    30\n",
       "1451    36\n",
       "1452    34\n",
       "1453    30\n",
       "1454    34\n",
       "Name: Age, Length: 1455, dtype: int64"
      ]
     },
     "execution_count": 18,
     "metadata": {},
     "output_type": "execute_result"
    }
   ],
   "source": [
    "\n",
    "# Knowledge (KnowsCreche\tKnowsCrecheA\tKnowsCrechePub\tKnowsAssMat\tKnowsNotYet\tKnowsJE\tKnowsAutre\tKnowsPartage\tKnowsHG\tKnowsNounou\tKnowsNothing)\n",
    "# KnownNbTypeECS\n",
    "\n",
    "# WantCreche\tWantCrecheA\tWantAssMat\tWantJE\tWantAutre\tWantPartage\tWantHG\tWantNounou\n",
    "\n",
    "\n",
    "# SingleMum\n",
    "\n",
    "#PsyStress\tPsyComplicated\tPsySatisfaction"
   ]
  },
  {
   "cell_type": "markdown",
   "metadata": {},
   "source": [
    "## Data"
   ]
  },
  {
   "cell_type": "code",
   "execution_count": 344,
   "metadata": {},
   "outputs": [
    {
     "name": "stderr",
     "output_type": "stream",
     "text": [
      "/var/folders/td/5r8mr8t14cn_c4w5c8ty48lw0000gn/T/ipykernel_61473/3063411514.py:1: DtypeWarning: Columns (96,111) have mixed types. Specify dtype option on import or set low_memory=False.\n",
      "  df = pd.read_csv(\"/Users/sylvainestebe/Code/data_child/data/dataset.csv\")\n"
     ]
    }
   ],
   "source": [
    "\n",
    "df = pd.read_csv(\"/Users/sylvainestebe/Code/data_child/data/dataset.csv\")\n",
    "\n",
    "data = {\n",
    "# demographic data\n",
    "        'Age': df.Age,\n",
    "        'Region': df.Dep,\n",
    "        'Postcode': df.CodePostalBaseline,\n",
    "#        'NumberChildren' : df.NumberChildren,\n",
    "        'SingleMom' : df.SingleMum,\n",
    "# knowledge\n",
    "        'NumberKnown' :df.KnownNbTypeECS,\n",
    "\n",
    "# output\n",
    "        'Intention' : df.Intention,\n",
    "        'Applied' : df.ECSApp,\n",
    "        'Use' : df.ECSUseYes\n",
    "}\n",
    " \n",
    "df = pd.DataFrame(data)"
   ]
  },
  {
   "cell_type": "code",
   "execution_count": 345,
   "metadata": {},
   "outputs": [],
   "source": [
    "# Replace \"Yes\" with 1 and \"No\" with 0 in the 'col_string' column\n",
    "df.Intention = df.Intention.replace({'Yes': 1, 'No': 0})\n",
    "df.SingleMom = df.SingleMom.replace({True:1,False:0})"
   ]
  },
  {
   "cell_type": "code",
   "execution_count": 346,
   "metadata": {},
   "outputs": [
    {
     "name": "stdout",
     "output_type": "stream",
     "text": [
      "Age            0\n",
      "Region         0\n",
      "Postcode       0\n",
      "SingleMom      0\n",
      "NumberKnown    0\n",
      "Intention      0\n",
      "Applied        0\n",
      "Use            0\n",
      "dtype: int64\n"
     ]
    }
   ],
   "source": [
    "# Look is there are Nan value\n",
    "print(df.isna().sum())\n"
   ]
  },
  {
   "cell_type": "code",
   "execution_count": 347,
   "metadata": {},
   "outputs": [
    {
     "data": {
      "text/html": [
       "<div>\n",
       "<style scoped>\n",
       "    .dataframe tbody tr th:only-of-type {\n",
       "        vertical-align: middle;\n",
       "    }\n",
       "\n",
       "    .dataframe tbody tr th {\n",
       "        vertical-align: top;\n",
       "    }\n",
       "\n",
       "    .dataframe thead th {\n",
       "        text-align: right;\n",
       "    }\n",
       "</style>\n",
       "<table border=\"1\" class=\"dataframe\">\n",
       "  <thead>\n",
       "    <tr style=\"text-align: right;\">\n",
       "      <th></th>\n",
       "      <th>Age</th>\n",
       "      <th>Region</th>\n",
       "      <th>Postcode</th>\n",
       "      <th>SingleMom</th>\n",
       "    </tr>\n",
       "  </thead>\n",
       "  <tbody>\n",
       "    <tr>\n",
       "      <th>0</th>\n",
       "      <td>30</td>\n",
       "      <td>94</td>\n",
       "      <td>94600</td>\n",
       "      <td>0</td>\n",
       "    </tr>\n",
       "    <tr>\n",
       "      <th>1</th>\n",
       "      <td>36</td>\n",
       "      <td>94</td>\n",
       "      <td>94800</td>\n",
       "      <td>0</td>\n",
       "    </tr>\n",
       "    <tr>\n",
       "      <th>2</th>\n",
       "      <td>29</td>\n",
       "      <td>93</td>\n",
       "      <td>93600</td>\n",
       "      <td>0</td>\n",
       "    </tr>\n",
       "    <tr>\n",
       "      <th>3</th>\n",
       "      <td>43</td>\n",
       "      <td>75</td>\n",
       "      <td>75019</td>\n",
       "      <td>0</td>\n",
       "    </tr>\n",
       "    <tr>\n",
       "      <th>4</th>\n",
       "      <td>40</td>\n",
       "      <td>94</td>\n",
       "      <td>94430</td>\n",
       "      <td>0</td>\n",
       "    </tr>\n",
       "    <tr>\n",
       "      <th>...</th>\n",
       "      <td>...</td>\n",
       "      <td>...</td>\n",
       "      <td>...</td>\n",
       "      <td>...</td>\n",
       "    </tr>\n",
       "    <tr>\n",
       "      <th>1450</th>\n",
       "      <td>30</td>\n",
       "      <td>75</td>\n",
       "      <td>75011</td>\n",
       "      <td>0</td>\n",
       "    </tr>\n",
       "    <tr>\n",
       "      <th>1451</th>\n",
       "      <td>36</td>\n",
       "      <td>93</td>\n",
       "      <td>93230</td>\n",
       "      <td>0</td>\n",
       "    </tr>\n",
       "    <tr>\n",
       "      <th>1452</th>\n",
       "      <td>34</td>\n",
       "      <td>93</td>\n",
       "      <td>93300</td>\n",
       "      <td>0</td>\n",
       "    </tr>\n",
       "    <tr>\n",
       "      <th>1453</th>\n",
       "      <td>30</td>\n",
       "      <td>75</td>\n",
       "      <td>75018</td>\n",
       "      <td>0</td>\n",
       "    </tr>\n",
       "    <tr>\n",
       "      <th>1454</th>\n",
       "      <td>34</td>\n",
       "      <td>94</td>\n",
       "      <td>94160</td>\n",
       "      <td>0</td>\n",
       "    </tr>\n",
       "  </tbody>\n",
       "</table>\n",
       "<p>1455 rows × 4 columns</p>\n",
       "</div>"
      ],
      "text/plain": [
       "      Age  Region  Postcode  SingleMom\n",
       "0      30      94     94600          0\n",
       "1      36      94     94800          0\n",
       "2      29      93     93600          0\n",
       "3      43      75     75019          0\n",
       "4      40      94     94430          0\n",
       "...   ...     ...       ...        ...\n",
       "1450   30      75     75011          0\n",
       "1451   36      93     93230          0\n",
       "1452   34      93     93300          0\n",
       "1453   30      75     75018          0\n",
       "1454   34      94     94160          0\n",
       "\n",
       "[1455 rows x 4 columns]"
      ]
     },
     "execution_count": 347,
     "metadata": {},
     "output_type": "execute_result"
    }
   ],
   "source": [
    "df.iloc[:,:4]"
   ]
  },
  {
   "cell_type": "markdown",
   "metadata": {},
   "source": [
    "## Question 1 \n",
    "As we can see in the histograme, there are few people would do not have the intention to applied. Can we classify which type of people?"
   ]
  },
  {
   "cell_type": "markdown",
   "metadata": {},
   "source": [
    "### Exploratory"
   ]
  },
  {
   "cell_type": "code",
   "execution_count": 348,
   "metadata": {},
   "outputs": [
    {
     "data": {
      "text/plain": [
       "<Axes: xlabel='Intention', ylabel='Count'>"
      ]
     },
     "execution_count": 348,
     "metadata": {},
     "output_type": "execute_result"
    },
    {
     "data": {
      "image/png": "[encoded data removed]",
      "text/plain": [
       "<Figure size 640x480 with 1 Axes>"
      ]
     },
     "metadata": {},
     "output_type": "display_data"
    }
   ],
   "source": [
    "# exploration dataset\n",
    "\n",
    "sns.histplot(df[\"Intention\"])\n"
   ]
  },
  {
   "cell_type": "markdown",
   "metadata": {},
   "source": [
    "https://chatgpt.com/c/4fc4b181-8d91-456f-a4d4-1cef2d01601a"
   ]
  },
  {
   "cell_type": "markdown",
   "metadata": {},
   "source": [
    "### Split trainning-test set"
   ]
  },
  {
   "cell_type": "code",
   "execution_count": 359,
   "metadata": {},
   "outputs": [],
   "source": [
    "## Train-Test\n",
    "\n",
    "# X = df.iloc[:,:9].values\n",
    "X = df.iloc[:,:5].values\n",
    "\n",
    "# intention df.iloc[:,5]\n",
    "# applied df.iloc[:,6]\n",
    "# use/accepted df.iloc[:,7]\n",
    "\n",
    "y = df.iloc[:,5].values\n",
    "\n",
    "X_train, X_test, y_train, y_test = train_test_split(X, y, \n",
    "                                                    test_size=0.15, \n",
    "                                                    random_state=42)\n",
    "\n",
    "# let's further split the training set into a training and a validation set (15%)\n",
    "X_train, X_val, y_train, y_val = train_test_split(X_train, \n",
    "                                                  y_train,\n",
    "                                                  test_size=X_test.shape[0] / X_train.shape[0],  \n",
    "                                                  random_state=42)\n",
    "\n",
    "for x,y,name in zip([X_train, X_val, X_test],\n",
    "                    [y_train, y_val, y_test],\n",
    "                    ['train', 'val', 'test']):\n",
    "    df = pd.DataFrame(np.hstack([x,y.reshape(-1,1)]))\n",
    "    df.columns = df.columns\n",
    "    df.to_csv(f'../data/{name}.csv')"
   ]
  },
  {
   "cell_type": "markdown",
   "metadata": {},
   "source": [
    "### Models\n",
    "- Model 0: Dummy model which predict alway the most frequent feature DONE\n",
    "- Model 1: Predict/Classify the intention given demographical data DONE but get 0 prediction (maybe add more demographical data) and different models\n",
    "- Model 2: Predict/Classify the intention given demographical data & Knowledge data (get prediction) add differents models\n",
    "- Model 3: Predict/Classify the intention given demographical data & Knowledge data & which data include?\n",
    "- Model 4: Interpretability\n",
    "\n",
    "Describe the model use"
   ]
  },
  {
   "cell_type": "code",
   "execution_count": 373,
   "metadata": {},
   "outputs": [],
   "source": [
    "# To track the performances of the models\n",
    "performances = []\n"
   ]
  },
  {
   "cell_type": "markdown",
   "metadata": {},
   "source": [
    "#### Model 0"
   ]
  },
  {
   "cell_type": "code",
   "execution_count": 374,
   "metadata": {},
   "outputs": [],
   "source": [
    "model_name = 'dummy'\n",
    "\n",
    "for x,y,nsplit in zip([X_train, X_val, X_test],\n",
    "                    [y_train, y_val, y_test],\n",
    "                    ['train', 'val', 'test']):\n",
    "\n",
    "    dummy_clf = DummyClassifier(strategy=\"most_frequent\")\n",
    "    dummy_clf.fit(x, y)\n",
    "    true_y = y\n",
    "    predict_y = dummy_clf.predict(x)\n",
    "    \n",
    "    precision = precision_score(true_y, predict_y, average='binary')\n",
    "    recall = recall_score(true_y, predict_y, average='binary')\n",
    "    f1= f1_score(true_y, predict_y)\n",
    "\n",
    "    performances.append({'model': model_name,\n",
    "                         'split': nsplit,\n",
    "                         'recall': recall,\n",
    "                         'f1': f1,\n",
    "                         'precision': precision})\n"
   ]
  },
  {
   "cell_type": "markdown",
   "metadata": {},
   "source": [
    "#### Model 1"
   ]
  },
  {
   "cell_type": "code",
   "execution_count": 375,
   "metadata": {},
   "outputs": [],
   "source": [
    "model_name = 'MLPClassifier demographic'\n",
    "dem_cols = range(4)\n",
    "clf = MLPClassifier(solver='lbfgs', alpha=1e-5,\n",
    "                    hidden_layer_sizes=(5, 2), random_state=1,max_iter=1000)\n",
    "scaler = StandardScaler()\n",
    "scaler_x  = scaler.fit_transform(X_train[:,dem_cols])\n",
    "reg = clf.fit((scaler_x), y_train)\n",
    "pkl.dump(reg, file=open(f'/Users/sylvainestebe/Code/data_child/models/neural-dem.pkl', 'wb')) # save the model\n"
   ]
  },
  {
   "cell_type": "code",
   "execution_count": 376,
   "metadata": {},
   "outputs": [],
   "source": [
    "for x,y,nsplit in zip([X_train, X_val, X_test],\n",
    "                    [y_train, y_val, y_test],\n",
    "                    ['train', 'val', 'test']):\n",
    "    true_y = y\n",
    "    scaler_x = scaler.fit_transform(x[:,dem_cols])\n",
    "    predict_y = reg.predict(scaler_x)\n",
    "    \n",
    "    # evaluation\n",
    "    precision = precision_score(true_y, predict_y, average='binary')\n",
    "    recall = recall_score(true_y, predict_y, average='binary')\n",
    "    f1= f1_score(true_y, predict_y)\n",
    "    \n",
    "    # append to dataframe performance\n",
    "    performances.append({'model': model_name,\n",
    "                         'split': nsplit,\n",
    "                         'recall': recall,\n",
    "                         'f1': f1,\n",
    "                         'precision': precision})"
   ]
  },
  {
   "cell_type": "code",
   "execution_count": 377,
   "metadata": {},
   "outputs": [
    {
     "data": {
      "text/plain": [
       "[{'model': 'dummy',\n",
       "  'split': 'train',\n",
       "  'recall': 1.0,\n",
       "  'f1': 0.8992805755395683,\n",
       "  'precision': 0.8169934640522876},\n",
       " {'model': 'dummy',\n",
       "  'split': 'val',\n",
       "  'recall': 1.0,\n",
       "  'f1': 0.9354838709677419,\n",
       "  'precision': 0.8787878787878788},\n",
       " {'model': 'dummy',\n",
       "  'split': 'test',\n",
       "  'recall': 1.0,\n",
       "  'f1': 0.8620689655172413,\n",
       "  'precision': 0.7575757575757576},\n",
       " {'model': 'MLPClassifier demographic',\n",
       "  'split': 'train',\n",
       "  'recall': 0.976,\n",
       "  'f1': 0.9138576779026216,\n",
       "  'precision': 0.8591549295774648},\n",
       " {'model': 'MLPClassifier demographic',\n",
       "  'split': 'val',\n",
       "  'recall': 0.9655172413793104,\n",
       "  'f1': 0.9180327868852458,\n",
       "  'precision': 0.875},\n",
       " {'model': 'MLPClassifier demographic',\n",
       "  'split': 'test',\n",
       "  'recall': 1.0,\n",
       "  'f1': 0.8771929824561403,\n",
       "  'precision': 0.78125}]"
      ]
     },
     "execution_count": 377,
     "metadata": {},
     "output_type": "execute_result"
    }
   ],
   "source": [
    "performances"
   ]
  },
  {
   "cell_type": "markdown",
   "metadata": {},
   "source": [
    "#### Model 2"
   ]
  },
  {
   "cell_type": "code",
   "execution_count": 378,
   "metadata": {},
   "outputs": [],
   "source": [
    "model_name = 'MLPClassifier demographic + know'\n",
    "dem_cols = range(5)\n",
    "clf = MLPClassifier(solver='lbfgs', alpha=1e-5,\n",
    "                    hidden_layer_sizes=(5, 2), random_state=1,max_iter=1000)\n",
    "scaler = StandardScaler()\n",
    "scaler_x  = scaler.fit_transform(X_train[:,dem_cols])\n",
    "reg = clf.fit((scaler_x), y_train)\n",
    "pkl.dump(reg, file=open(f'/Users/sylvainestebe/Code/data_child/models/neural-dem.pkl', 'wb')) # save the model\n"
   ]
  },
  {
   "cell_type": "code",
   "execution_count": 379,
   "metadata": {},
   "outputs": [],
   "source": [
    "for x,y,nsplit in zip([X_train, X_val, X_test],\n",
    "                    [y_train, y_val, y_test],\n",
    "                    ['train', 'val', 'test']):\n",
    "    true_y = y\n",
    "    scaler_x = scaler.fit_transform(x[:,dem_cols])\n",
    "    predict_y = reg.predict(scaler_x)\n",
    "    \n",
    "    # evaluation\n",
    "    precision = precision_score(true_y, predict_y, average='binary')\n",
    "    recall = recall_score(true_y, predict_y, average='binary')\n",
    "    f1= f1_score(true_y, predict_y)\n",
    "    \n",
    "    # append to dataframe performance\n",
    "    performances.append({'model': model_name,\n",
    "                         'split': nsplit,\n",
    "                         'recall': recall,\n",
    "                         'f1': f1,\n",
    "                         'precision': precision})"
   ]
  },
  {
   "cell_type": "markdown",
   "metadata": {},
   "source": [
    "### Model comparison"
   ]
  },
  {
   "cell_type": "markdown",
   "metadata": {},
   "source": [
    "#### Exemple for the evaluation"
   ]
  },
  {
   "cell_type": "code",
   "execution_count": 341,
   "metadata": {},
   "outputs": [
    {
     "data": {
      "text/plain": [
       "1.0"
      ]
     },
     "execution_count": 341,
     "metadata": {},
     "output_type": "execute_result"
    }
   ],
   "source": [
    "## Evaluation\n",
    "\n",
    "# F1\n",
    "\n",
    "# binary classification\n",
    "y_true_empty = [1, 1, 1, 1, 1, 0]\n",
    "y_pred_empty = [1, 1, 1, 1, 1, 0]\n",
    "f1_score(y_true_empty, y_pred_empty)\n",
    "\n",
    "# recall\n",
    "\n",
    "y_true = [1, 1, 1, 1, 1, 0]\n",
    "y_pred = [1, 1, 1, 1, 1, 0]\n",
    "recall_score(y_true, y_pred, average='binary')\n",
    "\n",
    "# precision (maybe more important because we want predict the type of person who do not applied)\n",
    "\n",
    "y_true = [1, 1, 1, 1, 1, 0]\n",
    "y_pred = [1, 1, 1, 1, 1, 0]\n",
    "precision_score(y_true, y_pred, average='binary')\n"
   ]
  },
  {
   "cell_type": "markdown",
   "metadata": {},
   "source": [
    "#### Model comparison"
   ]
  },
  {
   "cell_type": "code",
   "execution_count": 380,
   "metadata": {},
   "outputs": [],
   "source": [
    "perf_df = pd.DataFrame(performances)"
   ]
  },
  {
   "cell_type": "code",
   "execution_count": 381,
   "metadata": {},
   "outputs": [
    {
     "data": {
      "image/png": "[encoded data removed]",
      "text/plain": [
       "<Figure size 640x480 with 1 Axes>"
      ]
     },
     "metadata": {},
     "output_type": "display_data"
    }
   ],
   "source": [
    "sns.set_style('whitegrid')\n",
    "sns.scatterplot(data=perf_df.sort_values(by='precision', ascending=False), \n",
    "                y='model', \n",
    "                x='precision', \n",
    "                marker='s', \n",
    "                hue='split', palette=['darkorange', 'grey', 'darkred'])\n",
    "plt.show()"
   ]
  },
  {
   "cell_type": "markdown",
   "metadata": {},
   "source": [
    "### Matrix confusion"
   ]
  },
  {
   "cell_type": "code",
   "execution_count": 382,
   "metadata": {},
   "outputs": [
    {
     "data": {
      "image/png": "[encoded data removed]",
      "text/plain": [
       "<Figure size 640x480 with 2 Axes>"
      ]
     },
     "metadata": {},
     "output_type": "display_data"
    }
   ],
   "source": [
    "cm = confusion_matrix(true_y, predict_y)\n",
    "disp = ConfusionMatrixDisplay(confusion_matrix=cm)\n",
    "disp.plot()\n",
    "plt.xticks(rotation=90)\n",
    "plt.show()"
   ]
  },
  {
   "cell_type": "markdown",
   "metadata": {},
   "source": [
    "### Select the best model"
   ]
  },
  {
   "cell_type": "markdown",
   "metadata": {},
   "source": [
    "## Question 2 "
   ]
  },
  {
   "cell_type": "markdown",
   "metadata": {},
   "source": [
    "https://johnfengphd.medium.com/multi-label-binary-classification-with-deep-learning-e59fcef20a5e\n",
    "https://chatgpt.com/c/0667f7d8-b369-428a-8488-5f0654fe7452"
   ]
  },
  {
   "cell_type": "code",
   "execution_count": null,
   "metadata": {},
   "outputs": [],
   "source": [
    "# split train-test"
   ]
  },
  {
   "cell_type": "code",
   "execution_count": null,
   "metadata": {},
   "outputs": [],
   "source": [
    "# Model (multilabel)\n",
    "# add neural network"
   ]
  },
  {
   "cell_type": "code",
   "execution_count": 171,
   "metadata": {},
   "outputs": [],
   "source": [
    "# X = df.iloc[:,:9].values\n",
    "X = df.iloc[:,:5].values\n",
    "\n",
    "# intention df.iloc[:,5]\n",
    "# applied df.iloc[:,6]\n",
    "# use/accepted df.iloc[:,7]\n",
    "\n",
    "y = df.iloc[:,5].values"
   ]
  },
  {
   "cell_type": "code",
   "execution_count": 172,
   "metadata": {},
   "outputs": [],
   "source": [
    "X_train, X_test, y_train, y_test = train_test_split(X, y, \n",
    "                                                    test_size=0.15, \n",
    "                                                    random_state=42)\n",
    "\n",
    "# let's further split the training set into a training and a validation set (15%)\n",
    "X_train, X_val, y_train, y_val = train_test_split(X_train, \n",
    "                                                  y_train,\n",
    "                                                  test_size=X_test.shape[0] / X_train.shape[0],  \n",
    "                                                  random_state=42)"
   ]
  },
  {
   "cell_type": "code",
   "execution_count": 173,
   "metadata": {},
   "outputs": [],
   "source": [
    "for x,y,name in zip([X_train, X_val, X_test],\n",
    "                    [y_train, y_val, y_test],\n",
    "                    ['train', 'val', 'test']):\n",
    "    df = pd.DataFrame(np.hstack([x,y.reshape(-1,1)]))\n",
    "    df.columns = df.columns\n",
    "    df.to_csv(f'../data/{name}.csv')"
   ]
  },
  {
   "cell_type": "markdown",
   "metadata": {},
   "source": [
    "## Can we predict if a person have the intention if she will be accepted and applied?"
   ]
  },
  {
   "cell_type": "markdown",
   "metadata": {},
   "source": [
    "# Structure \n",
    "Pipeline (Start simple):\n",
    "- Datacuration\n",
    "- Split (Train/Test/Validation)\n",
    "- Question : Can we predict which category of people do not have the intention (one label) ? Can we predict a person which have the intention will applied? Will be accepted? (two label)\n",
    "- Model (Dummy)\n",
    "- Model (Neural Network)\n",
    "- Model (Tree/Xboost)\n",
    "- Model (??)\n",
    "- Fit the model\n",
    "- Evaluate the model (F1, Precision and Recall) \n",
    "- Optional : Can we find some cluster ? (exploratory)\n",
    "\n",
    "Pipeline (Complexify):\n",
    "- Use other data and try to find something consistent\n",
    "- Add regularisation \n"
   ]
  },
  {
   "cell_type": "code",
   "execution_count": null,
   "metadata": {},
   "outputs": [],
   "source": [
    "# regularisation\n",
    "# https://chatgpt.com/c/4fc4b181-8d91-456f-a4d4-1cef2d01601a"
   ]
  },
  {
   "cell_type": "code",
   "execution_count": null,
   "metadata": {},
   "outputs": [],
   "source": [
    "# multilabel classification\n",
    "y_true = [[0, 0, 0], [1, 1, 1], [0, 1, 1]]\n",
    "y_pred = [[0, 0, 0], [1, 1, 1], [1, 1, 0]]\n",
    "f1_score(y_true, y_pred, average=None)"
   ]
  }
 ],
 "metadata": {
  "kernelspec": {
   "display_name": ".venv",
   "language": "python",
   "name": "python3"
  },
  "language_info": {
   "codemirror_mode": {
    "name": "ipython",
    "version": 3
   },
   "file_extension": ".py",
   "mimetype": "text/x-python",
   "name": "python",
   "nbconvert_exporter": "python",
   "pygments_lexer": "ipython3",
   "version": "3.9.6"
  }
 },
 "nbformat": 4,
 "nbformat_minor": 2
}
