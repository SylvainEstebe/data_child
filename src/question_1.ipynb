{
 "cells": [
  {
   "cell_type": "markdown",
   "metadata": {},
   "source": [
    "# Data science project\n",
    "https://towardsdatascience.com/top-machine-learning-algorithms-for-classification-2197870ff501\n",
    "https://medium.com/@sakshi.babbar/exploring-classification-algorithms-guide-to-select-the-right-model-for-your-data-73b08b187a01\n",
    "https://christophm.github.io/interpretable-ml-book/simple.html\n",
    "https://towardsdatascience.com/three-interpretability-methods-to-consider-when-developing-your-machine-learning-model-5bf368b47fac\n",
    "https://en.wikipedia.org/wiki/Gradient_boosting\n",
    "https://xgboost.readthedocs.io/en/stable/\n",
    "https://christophm.github.io/interpretable-ml-book/"
   ]
  },
  {
   "cell_type": "code",
   "execution_count": 175,
   "metadata": {},
   "outputs": [],
   "source": [
    "import matplotlib.pyplot as plt\n",
    "import numpy as np\n",
    "import pandas as pd\n",
    "import itertools\n",
    "import seaborn as sns\n",
    "\n",
    "import pickle as pkl\n",
    "from sklearn import tree as tr\n",
    "\n",
    "from sklearn import datasets\n",
    "from sklearn.model_selection import train_test_split\n",
    "from sklearn.metrics import mean_squared_error, r2_score\n",
    "from sklearn.neighbors import KNeighborsRegressor\n",
    "from sklearn.linear_model import LinearRegression\n",
    "from sklearn.model_selection import train_test_split, GridSearchCV\n"
   ]
  },
  {
   "cell_type": "code",
   "execution_count": 18,
   "metadata": {},
   "outputs": [
    {
     "data": {
      "text/plain": [
       "0       30\n",
       "1       36\n",
       "2       29\n",
       "3       43\n",
       "4       40\n",
       "        ..\n",
       "1450    30\n",
       "1451    36\n",
       "1452    34\n",
       "1453    30\n",
       "1454    34\n",
       "Name: Age, Length: 1455, dtype: int64"
      ]
     },
     "execution_count": 18,
     "metadata": {},
     "output_type": "execute_result"
    }
   ],
   "source": [
    "\n",
    "# Knowledge (KnowsCreche\tKnowsCrecheA\tKnowsCrechePub\tKnowsAssMat\tKnowsNotYet\tKnowsJE\tKnowsAutre\tKnowsPartage\tKnowsHG\tKnowsNounou\tKnowsNothing)\n",
    "# KnownNbTypeECS\n",
    "\n",
    "# WantCreche\tWantCrecheA\tWantAssMat\tWantJE\tWantAutre\tWantPartage\tWantHG\tWantNounou\n",
    "\n",
    "\n",
    "# SingleMum\n",
    "\n",
    "#PsyStress\tPsyComplicated\tPsySatisfaction"
   ]
  },
  {
   "cell_type": "markdown",
   "metadata": {},
   "source": [
    "## Data curation"
   ]
  },
  {
   "cell_type": "code",
   "execution_count": 176,
   "metadata": {},
   "outputs": [
    {
     "name": "stderr",
     "output_type": "stream",
     "text": [
      "/var/folders/td/5r8mr8t14cn_c4w5c8ty48lw0000gn/T/ipykernel_61473/3063411514.py:1: DtypeWarning: Columns (96,111) have mixed types. Specify dtype option on import or set low_memory=False.\n",
      "  df = pd.read_csv(\"/Users/sylvainestebe/Code/data_child/data/dataset.csv\")\n"
     ]
    }
   ],
   "source": [
    "\n",
    "df = pd.read_csv(\"/Users/sylvainestebe/Code/data_child/data/dataset.csv\")\n",
    "\n",
    "data = {\n",
    "# demographic data\n",
    "        'Age': df.Age,\n",
    "        'Region': df.Dep,\n",
    "        'Postcode': df.CodePostalBaseline,\n",
    "#        'NumberChildren' : df.NumberChildren,\n",
    "        'SingleMom' : df.SingleMum,\n",
    "# knowledge\n",
    "        'NumberKnown' :df.KnownNbTypeECS,\n",
    "\n",
    "# output\n",
    "        'Intention' : df.Intention,\n",
    "        'Applied' : df.ECSApp,\n",
    "        'Use' : df.ECSUseYes\n",
    "}\n",
    " \n",
    "df = pd.DataFrame(data)"
   ]
  },
  {
   "cell_type": "code",
   "execution_count": 177,
   "metadata": {},
   "outputs": [],
   "source": [
    "# Replace \"Yes\" with 1 and \"No\" with 0 in the 'col_string' column\n",
    "df.Intention = df.Intention.replace({'Yes': 1, 'No': 0})\n",
    "df.SingleMom = df.SingleMom.replace({True:1,False:0})"
   ]
  },
  {
   "cell_type": "code",
   "execution_count": 178,
   "metadata": {},
   "outputs": [
    {
     "name": "stdout",
     "output_type": "stream",
     "text": [
      "Age            0\n",
      "Region         0\n",
      "Postcode       0\n",
      "SingleMom      0\n",
      "NumberKnown    0\n",
      "Intention      0\n",
      "Applied        0\n",
      "Use            0\n",
      "dtype: int64\n"
     ]
    }
   ],
   "source": [
    "# Look is there are Nan value\n",
    "print(df.isna().sum())\n"
   ]
  },
  {
   "cell_type": "markdown",
   "metadata": {},
   "source": [
    "## Explore dataset"
   ]
  },
  {
   "cell_type": "code",
   "execution_count": 186,
   "metadata": {},
   "outputs": [
    {
     "data": {
      "text/plain": [
       "<Axes: xlabel='Intention', ylabel='Count'>"
      ]
     },
     "execution_count": 186,
     "metadata": {},
     "output_type": "execute_result"
    },
    {
     "data": {
      "image/png": "[encoded data removed]",
      "text/plain": [
       "<Figure size 640x480 with 1 Axes>"
      ]
     },
     "metadata": {},
     "output_type": "display_data"
    }
   ],
   "source": [
    "# Histograme\n",
    "sns.histplot(df[\"Intention\"])\n",
    "# Boxplot\n",
    "# Grouped by chart"
   ]
  },
  {
   "cell_type": "markdown",
   "metadata": {},
   "source": [
    "## Question 1\n",
    "As we can see in the histograme, there are few people would do not have the intention to applied. Can we classify which type of people?"
   ]
  },
  {
   "cell_type": "code",
   "execution_count": null,
   "metadata": {},
   "outputs": [],
   "source": [
    "# exploration dataset\n",
    "\n",
    "sns.histplot(df[\"Intention\"])\n"
   ]
  },
  {
   "cell_type": "markdown",
   "metadata": {},
   "source": [
    "https://chatgpt.com/c/4fc4b181-8d91-456f-a4d4-1cef2d01601a"
   ]
  },
  {
   "cell_type": "code",
   "execution_count": 187,
   "metadata": {},
   "outputs": [],
   "source": [
    "## Train-Test\n",
    "\n",
    "# X = df.iloc[:,:9].values\n",
    "X = df.iloc[:,:5].values\n",
    "\n",
    "# intention df.iloc[:,5]\n",
    "# applied df.iloc[:,6]\n",
    "# use/accepted df.iloc[:,7]\n",
    "\n",
    "y = df.iloc[:,5].values\n",
    "\n",
    "X_train, X_test, y_train, y_test = train_test_split(X, y, \n",
    "                                                    test_size=0.15, \n",
    "                                                    random_state=42)\n",
    "\n",
    "# let's further split the training set into a training and a validation set (15%)\n",
    "X_train, X_val, y_train, y_val = train_test_split(X_train, \n",
    "                                                  y_train,\n",
    "                                                  test_size=X_test.shape[0] / X_train.shape[0],  \n",
    "                                                  random_state=42)\n",
    "\n",
    "for x,y,name in zip([X_train, X_val, X_test],\n",
    "                    [y_train, y_val, y_test],\n",
    "                    ['train', 'val', 'test']):\n",
    "    df = pd.DataFrame(np.hstack([x,y.reshape(-1,1)]))\n",
    "    df.columns = df.columns\n",
    "    df.to_csv(f'../data/{name}.csv')"
   ]
  },
  {
   "cell_type": "code",
   "execution_count": 192,
   "metadata": {},
   "outputs": [
    {
     "name": "stdout",
     "output_type": "stream",
     "text": [
      "[False False False ... False False False]\n"
     ]
    }
   ],
   "source": []
  },
  {
   "cell_type": "markdown",
   "metadata": {},
   "source": [
    "### our models\n",
    "- Model 0: predict alway one\n",
    "- Model 1: predicting the `target` based on age, sex, and BMI and blood pressure\n",
    "- Model 2: predicting the target based on measurements.\n"
   ]
  },
  {
   "cell_type": "code",
   "execution_count": null,
   "metadata": {},
   "outputs": [],
   "source": [
    "mean_value = y_train.mean()\n",
    "model_name = 'dummy'\n",
    "for y,nsplit in zip([y_train, y_val, y_test],\n",
    "                    ['train', 'val', 'test']):\n",
    "    performance = np.sqrt(mean_squared_error(y, \n",
    "                                             [mean_value]*y.shape[0]))\n",
    "    r2 = r2_score(y, [mean_value]*y.shape[0])\n",
    "    performances.append({'model': model_name,\n",
    "                         'split': nsplit,\n",
    "                         'rmse': performance.round(4),\n",
    "                         'r2': r2.round(4)})"
   ]
  },
  {
   "cell_type": "code",
   "execution_count": null,
   "metadata": {},
   "outputs": [],
   "source": [
    "performances = []\n",
    "## Model\n",
    "# Logistic regression\n",
    "# Decision trees\n",
    "# Random forest/ Xboost\n",
    "# Support vector machine\n",
    "# K-nearest neigboor\n",
    "# Naive bayes\n"
   ]
  },
  {
   "cell_type": "code",
   "execution_count": 199,
   "metadata": {},
   "outputs": [
    {
     "data": {
      "text/plain": [
       "1.0"
      ]
     },
     "execution_count": 199,
     "metadata": {},
     "output_type": "execute_result"
    }
   ],
   "source": [
    "from sklearn.metrics import f1_score\n",
    "from sklearn.metrics import precision_score\n",
    "from sklearn.metrics import recall_score\n",
    "\n",
    "## Evaluation\n",
    "# F1\n",
    "\n",
    "# binary classification\n",
    "y_true_empty = [1, 1, 1, 1, 1, 0]\n",
    "y_pred_empty = [1, 1, 1, 1, 1, 0]\n",
    "f1_score(y_true_empty, y_pred_empty)\n",
    "\n",
    "# recall\n",
    "\n",
    "y_true = [1, 1, 1, 1, 1, 0]\n",
    "y_pred = [1, 1, 1, 1, 1, 0]\n",
    "recall_score(y_true, y_pred, average='binary')\n",
    "\n",
    "# precision (maybe more important because we want predict the type of person who do not applied)\n",
    "\n",
    "y_true = [1, 1, 1, 1, 1, 0]\n",
    "y_pred = [1, 1, 1, 1, 1, 0]\n",
    "precision_score(y_true, y_pred, average='binary')\n"
   ]
  },
  {
   "cell_type": "code",
   "execution_count": null,
   "metadata": {},
   "outputs": [],
   "source": [
    "## model comparison"
   ]
  },
  {
   "cell_type": "markdown",
   "metadata": {},
   "source": [
    "## Question 2 "
   ]
  },
  {
   "cell_type": "markdown",
   "metadata": {},
   "source": [
    "https://johnfengphd.medium.com/multi-label-binary-classification-with-deep-learning-e59fcef20a5e\n",
    "https://chatgpt.com/c/0667f7d8-b369-428a-8488-5f0654fe7452"
   ]
  },
  {
   "cell_type": "code",
   "execution_count": null,
   "metadata": {},
   "outputs": [],
   "source": [
    "# split train-test"
   ]
  },
  {
   "cell_type": "code",
   "execution_count": null,
   "metadata": {},
   "outputs": [],
   "source": [
    "# Model (multilabel)\n",
    "# add neural network"
   ]
  },
  {
   "cell_type": "markdown",
   "metadata": {},
   "source": [
    "# Train-Test split"
   ]
  },
  {
   "cell_type": "code",
   "execution_count": 171,
   "metadata": {},
   "outputs": [],
   "source": [
    "# X = df.iloc[:,:9].values\n",
    "X = df.iloc[:,:5].values\n",
    "\n",
    "# intention df.iloc[:,5]\n",
    "# applied df.iloc[:,6]\n",
    "# use/accepted df.iloc[:,7]\n",
    "\n",
    "y = df.iloc[:,5].values"
   ]
  },
  {
   "cell_type": "code",
   "execution_count": 172,
   "metadata": {},
   "outputs": [],
   "source": [
    "X_train, X_test, y_train, y_test = train_test_split(X, y, \n",
    "                                                    test_size=0.15, \n",
    "                                                    random_state=42)\n",
    "\n",
    "# let's further split the training set into a training and a validation set (15%)\n",
    "X_train, X_val, y_train, y_val = train_test_split(X_train, \n",
    "                                                  y_train,\n",
    "                                                  test_size=X_test.shape[0] / X_train.shape[0],  \n",
    "                                                  random_state=42)"
   ]
  },
  {
   "cell_type": "code",
   "execution_count": 173,
   "metadata": {},
   "outputs": [],
   "source": [
    "for x,y,name in zip([X_train, X_val, X_test],\n",
    "                    [y_train, y_val, y_test],\n",
    "                    ['train', 'val', 'test']):\n",
    "    df = pd.DataFrame(np.hstack([x,y.reshape(-1,1)]))\n",
    "    df.columns = df.columns\n",
    "    df.to_csv(f'../data/{name}.csv')"
   ]
  },
  {
   "cell_type": "markdown",
   "metadata": {},
   "source": [
    "## Model"
   ]
  },
  {
   "cell_type": "code",
   "execution_count": null,
   "metadata": {},
   "outputs": [],
   "source": [
    "performances = []"
   ]
  },
  {
   "cell_type": "markdown",
   "metadata": {},
   "source": [
    "## Dummy model\n",
    "https://medium.com/@eskandar.sahel/a-dummy-classifier-a-baseline-classifier-or-a-null-model-71df50fd8947#:~:text=A%20dummy%20classifier%2C%20also%20known,performance%20of%20more%20sophisticated%20models."
   ]
  },
  {
   "cell_type": "code",
   "execution_count": null,
   "metadata": {},
   "outputs": [],
   "source": []
  },
  {
   "cell_type": "markdown",
   "metadata": {},
   "source": [
    "## Can we predict if a person will not have the intention?"
   ]
  },
  {
   "cell_type": "markdown",
   "metadata": {},
   "source": [
    "https://scikit-learn.org/stable/modules/generated/sklearn.tree.DecisionTreeClassifier.html#sklearn.tree.DecisionTreeClassifier\n",
    "\n",
    "- Tree\n",
    "- Neural Network"
   ]
  },
  {
   "cell_type": "code",
   "execution_count": 174,
   "metadata": {},
   "outputs": [
    {
     "name": "stdout",
     "output_type": "stream",
     "text": [
      "{'ccp_alpha': 0.01, 'max_depth': 1, 'min_samples_split': 11}\n",
      "test RMSE:  0.37623464940848433\n"
     ]
    },
    {
     "name": "stderr",
     "output_type": "stream",
     "text": [
      "/Users/sylvainestebe/Code/nlp_project/.venv/lib/python3.9/site-packages/sklearn/model_selection/_validation.py:378: FitFailedWarning: \n",
      "180 fits failed out of a total of 1800.\n",
      "The score on these train-test partitions for these parameters will be set to nan.\n",
      "If these failures are not expected, you can try to debug them by setting error_score='raise'.\n",
      "\n",
      "Below are more details about the failures:\n",
      "--------------------------------------------------------------------------------\n",
      "180 fits failed with the following error:\n",
      "Traceback (most recent call last):\n",
      "  File \"/Users/sylvainestebe/Code/nlp_project/.venv/lib/python3.9/site-packages/sklearn/model_selection/_validation.py\", line 686, in _fit_and_score\n",
      "    estimator.fit(X_train, y_train, **fit_params)\n",
      "  File \"/Users/sylvainestebe/Code/nlp_project/.venv/lib/python3.9/site-packages/sklearn/tree/_classes.py\", line 889, in fit\n",
      "    super().fit(\n",
      "  File \"/Users/sylvainestebe/Code/nlp_project/.venv/lib/python3.9/site-packages/sklearn/tree/_classes.py\", line 177, in fit\n",
      "    self._validate_params()\n",
      "  File \"/Users/sylvainestebe/Code/nlp_project/.venv/lib/python3.9/site-packages/sklearn/base.py\", line 600, in _validate_params\n",
      "    validate_parameter_constraints(\n",
      "  File \"/Users/sylvainestebe/Code/nlp_project/.venv/lib/python3.9/site-packages/sklearn/utils/_param_validation.py\", line 97, in validate_parameter_constraints\n",
      "    raise InvalidParameterError(\n",
      "sklearn.utils._param_validation.InvalidParameterError: The 'min_samples_split' parameter of DecisionTreeClassifier must be an int in the range [2, inf) or a float in the range (0.0, 1.0]. Got 1 instead.\n",
      "\n",
      "  warnings.warn(some_fits_failed_message, FitFailedWarning)\n",
      "/Users/sylvainestebe/Code/nlp_project/.venv/lib/python3.9/site-packages/sklearn/model_selection/_search.py:952: UserWarning: One or more of the test scores are non-finite: [        nan -0.12977398 -0.12977398 -0.12977398 -0.12977398 -0.12977398\n",
      " -0.12977398 -0.12977398 -0.12977398 -0.12977398         nan -0.12977398\n",
      " -0.12977398 -0.12977398 -0.12977398 -0.12977398 -0.12977398 -0.12977398\n",
      " -0.12977398 -0.12977398         nan -0.12977398 -0.12977398 -0.12977398\n",
      " -0.12977398 -0.12977398 -0.12977398 -0.12977398 -0.12977398 -0.12977398\n",
      "         nan -0.12977398 -0.12977398 -0.12977398 -0.12977398 -0.12977398\n",
      " -0.12977398 -0.12977398 -0.12977398 -0.12977398         nan -0.12977398\n",
      " -0.12977398 -0.12977398 -0.12977398 -0.12977398 -0.12977398 -0.12977398\n",
      " -0.12977398 -0.12977398         nan -0.12977398 -0.12977398 -0.12977398\n",
      " -0.12977398 -0.12977398 -0.12977398 -0.12977398 -0.12977398 -0.12977398\n",
      "         nan -0.12977398 -0.12977398 -0.12977398 -0.12977398 -0.12977398\n",
      " -0.12977398 -0.12977398 -0.12977398 -0.12977398         nan -0.12977398\n",
      " -0.12977398 -0.12977398 -0.12977398 -0.12977398 -0.12977398 -0.12977398\n",
      " -0.12977398 -0.12977398         nan -0.12977398 -0.12977398 -0.12977398\n",
      " -0.12977398 -0.12977398 -0.12977398 -0.12977398 -0.12977398 -0.12977398\n",
      "         nan -0.1809234  -0.1809234  -0.1809234  -0.1809234  -0.1809234\n",
      " -0.1809234  -0.1809234  -0.1809234  -0.1809234          nan -0.1809234\n",
      " -0.1809234  -0.1809234  -0.1809234  -0.1809234  -0.1809234  -0.1809234\n",
      " -0.1809234  -0.1809234          nan -0.1809234  -0.1809234  -0.1809234\n",
      " -0.1809234  -0.1809234  -0.1809234  -0.1809234  -0.1809234  -0.1809234\n",
      "         nan -0.1809234  -0.1809234  -0.1809234  -0.1809234  -0.1809234\n",
      " -0.1809234  -0.1809234  -0.1809234  -0.1809234          nan -0.1809234\n",
      " -0.1809234  -0.1809234  -0.1809234  -0.1809234  -0.1809234  -0.1809234\n",
      " -0.1809234  -0.1809234          nan -0.1809234  -0.1809234  -0.1809234\n",
      " -0.1809234  -0.1809234  -0.1809234  -0.1809234  -0.1809234  -0.1809234\n",
      "         nan -0.1809234  -0.1809234  -0.1809234  -0.1809234  -0.1809234\n",
      " -0.1809234  -0.1809234  -0.1809234  -0.1809234          nan -0.1809234\n",
      " -0.1809234  -0.1809234  -0.1809234  -0.1809234  -0.1809234  -0.1809234\n",
      " -0.1809234  -0.1809234          nan -0.1809234  -0.1809234  -0.1809234\n",
      " -0.1809234  -0.1809234  -0.1809234  -0.1809234  -0.1809234  -0.1809234\n",
      "         nan -0.1809234  -0.1809234  -0.1809234  -0.1809234  -0.1809234\n",
      " -0.1809234  -0.1809234  -0.1809234  -0.1809234          nan -0.1809234\n",
      " -0.1809234  -0.1809234  -0.1809234  -0.1809234  -0.1809234  -0.1809234\n",
      " -0.1809234  -0.1809234          nan -0.1809234  -0.1809234  -0.1809234\n",
      " -0.1809234  -0.1809234  -0.1809234  -0.1809234  -0.1809234  -0.1809234\n",
      "         nan -0.1809234  -0.1809234  -0.1809234  -0.1809234  -0.1809234\n",
      " -0.1809234  -0.1809234  -0.1809234  -0.1809234          nan -0.1809234\n",
      " -0.1809234  -0.1809234  -0.1809234  -0.1809234  -0.1809234  -0.1809234\n",
      " -0.1809234  -0.1809234          nan -0.1809234  -0.1809234  -0.1809234\n",
      " -0.1809234  -0.1809234  -0.1809234  -0.1809234  -0.1809234  -0.1809234\n",
      "         nan -0.1809234  -0.1809234  -0.1809234  -0.1809234  -0.1809234\n",
      " -0.1809234  -0.1809234  -0.1809234  -0.1809234          nan -0.1809234\n",
      " -0.1809234  -0.1809234  -0.1809234  -0.1809234  -0.1809234  -0.1809234\n",
      " -0.1809234  -0.1809234          nan -0.1809234  -0.1809234  -0.1809234\n",
      " -0.1809234  -0.1809234  -0.1809234  -0.1809234  -0.1809234  -0.1809234\n",
      "         nan -0.1809234  -0.1809234  -0.1809234  -0.1809234  -0.1809234\n",
      " -0.1809234  -0.1809234  -0.1809234  -0.1809234          nan -0.1809234\n",
      " -0.1809234  -0.1809234  -0.1809234  -0.1809234  -0.1809234  -0.1809234\n",
      " -0.1809234  -0.1809234          nan -0.1809234  -0.1809234  -0.1809234\n",
      " -0.1809234  -0.1809234  -0.1809234  -0.1809234  -0.1809234  -0.1809234\n",
      "         nan -0.1809234  -0.1809234  -0.1809234  -0.1809234  -0.1809234\n",
      " -0.1809234  -0.1809234  -0.1809234  -0.1809234          nan -0.1809234\n",
      " -0.1809234  -0.1809234  -0.1809234  -0.1809234  -0.1809234  -0.1809234\n",
      " -0.1809234  -0.1809234          nan -0.1809234  -0.1809234  -0.1809234\n",
      " -0.1809234  -0.1809234  -0.1809234  -0.1809234  -0.1809234  -0.1809234\n",
      "         nan -0.1809234  -0.1809234  -0.1809234  -0.1809234  -0.1809234\n",
      " -0.1809234  -0.1809234  -0.1809234  -0.1809234          nan -0.1809234\n",
      " -0.1809234  -0.1809234  -0.1809234  -0.1809234  -0.1809234  -0.1809234\n",
      " -0.1809234  -0.1809234          nan -0.1809234  -0.1809234  -0.1809234\n",
      " -0.1809234  -0.1809234  -0.1809234  -0.1809234  -0.1809234  -0.1809234 ]\n",
      "  warnings.warn(\n"
     ]
    }
   ],
   "source": [
    "from sklearn import tree\n"
   ]
  },
  {
   "cell_type": "code",
   "execution_count": 143,
   "metadata": {},
   "outputs": [
    {
     "data": {
      "image/png": "[encoded data removed]",
      "text/plain": [
       "<Figure size 300x300 with 1 Axes>"
      ]
     },
     "metadata": {},
     "output_type": "display_data"
    }
   ],
   "source": [
    "fig = plt.figure(figsize=(3,3))\n",
    "_ = tr.plot_tree(tree_model, \n",
    "                 filled=True)"
   ]
  },
  {
   "cell_type": "markdown",
   "metadata": {},
   "source": [
    "## Can we predict if a person have the intention if she will be accepted and applied?"
   ]
  },
  {
   "cell_type": "markdown",
   "metadata": {},
   "source": [
    "\n",
    "\n",
    "https://xgboost.readthedocs.io/en/stable/\n",
    "https://shap.readthedocs.io/en/latest/\n",
    "https://www.educative.io/answers/classification-using-xgboost-in-python\n",
    "\n",
    "# IDEAS \n",
    "- First simple : Classfication tasks with demographical data and different methods \n",
    "Question : \n",
    "- Given a person as the intention to use childcare can we predict if she will applied and be accept (2 output) (multiclass or two class)\n",
    "- Second : Cluster, can we find cluster of people or not \n",
    "- Given some data can we find some similar cluster in the person\n",
    "\n",
    "Both method use train,test,valid set and find relevant evaluation.\n",
    "Can we interpret the data? Can we answer our question? Does a specific profile emerge?\n",
    "\n",
    "- Third : Cluster latent analysis ...\n",
    "https://www.sciencedirect.com/science/article/pii/S2215016122001273#:~:text=Latent%20Class%20Cluster%20Analysis%20(LCCA,%2C%20psychological%2C%20and%20educational%20research.\n",
    "\n",
    "https://scikit-learn.org/stable/modules/model_evaluation.html#classification-metrics\n",
    "https://scikit-learn.org/stable/modules/model_evaluation.html#clustering-metrics"
   ]
  },
  {
   "cell_type": "markdown",
   "metadata": {},
   "source": [
    "# Structure \n",
    "Pipeline (Start simple):\n",
    "- Datacuration\n",
    "- Split (Train/Test/Validation)\n",
    "- Question : Can we predict which category of people do not have the intention (one label) ? Can we predict a person which have the intention will applied? Will be accepted? (two label)\n",
    "- Model (Dummy)\n",
    "- Model (Neural Network)\n",
    "- Model (Tree/Xboost)\n",
    "- Model (??)\n",
    "- Fit the model\n",
    "- Evaluate the model (F1, Precision and Recall) \n",
    "- Optional : Can we find some cluster ? (exploratory)\n",
    "\n",
    "Pipeline (Complexify):\n",
    "- Use other data and try to find something consistent\n",
    "- Add regularisation \n"
   ]
  },
  {
   "cell_type": "code",
   "execution_count": null,
   "metadata": {},
   "outputs": [],
   "source": [
    "# regularisation\n",
    "# https://chatgpt.com/c/4fc4b181-8d91-456f-a4d4-1cef2d01601a"
   ]
  },
  {
   "cell_type": "code",
   "execution_count": null,
   "metadata": {},
   "outputs": [],
   "source": [
    "# multilabel classification\n",
    "y_true = [[0, 0, 0], [1, 1, 1], [0, 1, 1]]\n",
    "y_pred = [[0, 0, 0], [1, 1, 1], [1, 1, 0]]\n",
    "f1_score(y_true, y_pred, average=None)"
   ]
  }
 ],
 "metadata": {
  "kernelspec": {
   "display_name": ".venv",
   "language": "python",
   "name": "python3"
  },
  "language_info": {
   "codemirror_mode": {
    "name": "ipython",
    "version": 3
   },
   "file_extension": ".py",
   "mimetype": "text/x-python",
   "name": "python",
   "nbconvert_exporter": "python",
   "pygments_lexer": "ipython3",
   "version": "3.9.6"
  }
 },
 "nbformat": 4,
 "nbformat_minor": 2
}
