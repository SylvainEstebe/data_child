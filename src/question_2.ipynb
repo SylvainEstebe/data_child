{
 "cells": [
  {
   "cell_type": "markdown",
   "metadata": {},
   "source": [
    "# Library"
   ]
  },
  {
   "cell_type": "code",
   "execution_count": 31,
   "metadata": {},
   "outputs": [],
   "source": [
    "import matplotlib.pyplot as plt\n",
    "import numpy as np\n",
    "import pandas as pd\n",
    "import itertools\n",
    "import seaborn as sns\n",
    "import pickle as pkl\n",
    "from sklearn import tree as tr\n",
    "from sklearn import datasets\n",
    "from sklearn.model_selection import train_test_split\n",
    "from sklearn.metrics import mean_squared_error, r2_score\n",
    "from sklearn.neighbors import KNeighborsRegressor\n",
    "from sklearn.linear_model import LinearRegression\n",
    "from sklearn.model_selection import train_test_split, GridSearchCV\n",
    "from sklearn.metrics import f1_score\n",
    "from sklearn.metrics import precision_score\n",
    "from sklearn.metrics import recall_score\n",
    "from sklearn.neural_network import MLPClassifier\n",
    "from sklearn.preprocessing import StandardScaler\n",
    "from sklearn.dummy import DummyClassifier\n",
    "from sklearn.metrics import f1_score, accuracy_score\n",
    "from sklearn.metrics import confusion_matrix, ConfusionMatrixDisplay\n",
    "\n"
   ]
  },
  {
   "cell_type": "markdown",
   "metadata": {},
   "source": [
    "# Data"
   ]
  },
  {
   "cell_type": "code",
   "execution_count": 32,
   "metadata": {},
   "outputs": [
    {
     "name": "stderr",
     "output_type": "stream",
     "text": [
      "/var/folders/td/5r8mr8t14cn_c4w5c8ty48lw0000gn/T/ipykernel_75244/3063411514.py:1: DtypeWarning: Columns (96,111) have mixed types. Specify dtype option on import or set low_memory=False.\n",
      "  df = pd.read_csv(\"/Users/sylvainestebe/Code/data_child/data/dataset.csv\")\n"
     ]
    }
   ],
   "source": [
    "\n",
    "df = pd.read_csv(\"/Users/sylvainestebe/Code/data_child/data/dataset.csv\")\n",
    "\n",
    "data = {\n",
    "# demographic data\n",
    "        'Age': df.Age,\n",
    "        'Region': df.Dep,\n",
    "        'Postcode': df.CodePostalBaseline,\n",
    "#        'NumberChildren' : df.NumberChildren,\n",
    "        'SingleMom' : df.SingleMum,\n",
    "# knowledge\n",
    "        'NumberKnown' :df.KnownNbTypeECS,\n",
    "\n",
    "# output\n",
    "        'Intention' : df.Intention,\n",
    "        'Applied' : df.ECSApp,\n",
    "        'Use' : df.ECSUseYes\n",
    "}\n",
    " \n",
    "df = pd.DataFrame(data)"
   ]
  },
  {
   "cell_type": "code",
   "execution_count": 33,
   "metadata": {},
   "outputs": [],
   "source": [
    "# Replace \"Yes\" with 1 and \"No\" with 0 in the 'col_string' column\n",
    "df.Intention = df.Intention.replace({'Yes': 1, 'No': 0})\n",
    "df.SingleMom = df.SingleMom.replace({True:1,False:0})"
   ]
  },
  {
   "cell_type": "code",
   "execution_count": 34,
   "metadata": {},
   "outputs": [
    {
     "name": "stdout",
     "output_type": "stream",
     "text": [
      "Age            0\n",
      "Region         0\n",
      "Postcode       0\n",
      "SingleMom      0\n",
      "NumberKnown    0\n",
      "Intention      0\n",
      "Applied        0\n",
      "Use            0\n",
      "dtype: int64\n"
     ]
    }
   ],
   "source": [
    "# Look is there are Nan value\n",
    "print(df.isna().sum())\n"
   ]
  },
  {
   "cell_type": "markdown",
   "metadata": {},
   "source": [
    "# Model"
   ]
  },
  {
   "cell_type": "code",
   "execution_count": 36,
   "metadata": {},
   "outputs": [],
   "source": [
    "## Train-Test\n",
    "\n",
    "# X = df.iloc[:,:9].values\n",
    "X = df.iloc[:,:5].values\n",
    "\n",
    "y = (df.iloc[:,6]+ 2 * df.iloc[:,7])\n",
    "y = y.values \n",
    "np.unique(y)\n",
    "\n",
    "X_train, X_test, y_train, y_test = train_test_split(X, y, \n",
    "                                                    test_size=0.15, \n",
    "                                                    random_state=42)\n",
    "\n",
    "# let's further split the training set into a training and a validation set (15%)\n",
    "X_train, X_val, y_train, y_val = train_test_split(X_train, \n",
    "                                                  y_train,\n",
    "                                                  test_size=X_test.shape[0] / X_train.shape[0],  \n",
    "                                                  random_state=42)\n",
    "\n",
    "for x,y,name in zip([X_train, X_val, X_test],\n",
    "                    [y_train, y_val, y_test],\n",
    "                    ['train', 'val', 'test']):\n",
    "    df = pd.DataFrame(np.hstack([x,y.reshape(-1,1)]))\n",
    "    df.columns = df.columns\n",
    "    df.to_csv(f'../data/{name}.csv')"
   ]
  },
  {
   "cell_type": "markdown",
   "metadata": {},
   "source": []
  }
 ],
 "metadata": {
  "kernelspec": {
   "display_name": ".venv",
   "language": "python",
   "name": "python3"
  },
  "language_info": {
   "codemirror_mode": {
    "name": "ipython",
    "version": 3
   },
   "file_extension": ".py",
   "mimetype": "text/x-python",
   "name": "python",
   "nbconvert_exporter": "python",
   "pygments_lexer": "ipython3",
   "version": "3.9.6"
  }
 },
 "nbformat": 4,
 "nbformat_minor": 2
}
